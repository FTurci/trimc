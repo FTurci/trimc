{
 "cells": [
  {
   "cell_type": "code",
   "execution_count": 11,
   "metadata": {},
   "outputs": [
    {
     "data": {
      "application/vnd.jupyter.widget-view+json": {
       "model_id": "1582a1c280ef4a67953ca5518dae6674",
       "version_major": 2,
       "version_minor": 0
      },
      "text/plain": [
       "VBox(children=(VBox(children=(HBox(children=(Label(value='levels:'), FloatSlider(value=0.0, max=1.0, step=0.00…"
      ]
     },
     "metadata": {},
     "output_type": "display_data"
    }
   ],
   "source": [
    "import numpy as np\n",
    "import h5py\n",
    "import sys\n",
    "import matplotlib.pyplot as pl\n",
    "from stringato import extract_floats as ef\n",
    "import numpy as np\n",
    "from scipy.spatial.distance import pdist\n",
    "from numba  import jit\n",
    "import os\n",
    "from scipy.interpolate import UnivariateSpline\n",
    "from mayavi import mlab\n",
    "import ipyvolume as ipv\n",
    "\n",
    "def reassign(b,shape):\n",
    "    dummy = np.zeros(shape)\n",
    "    s0 = shape[0]\n",
    "    for s in range(shape[2]):\n",
    "        dummy[:,:,s] = b[s*s0:(s+1)*s0,:]\n",
    "    return dummy\n",
    "\n",
    "Pe =60.0\n",
    "L = 5\n",
    "N = 100\n",
    "rmin=1.0\n",
    "potential = np.loadtxt(f\"../Interactions/threebodypotential-L5-Pe{Pe}.txt\")\n",
    "\n",
    "depletion = np.loadtxt(f\"../Interactions/depletion-Pe{Pe}L4.0.txt\")\n",
    "\n",
    "tb = UnivariateSpline(depletion[:,0], depletion[:,1],s=0)\n",
    "\n",
    "def twobody(r):\n",
    "\treturn np.piecewise(r,[r<1.0, r>2.5, ],[0,0,tb])\n",
    "\n",
    "# rr = np.linspace(0.9,2.5)\n",
    "# pl.plot(rr,twobody(rr))\n",
    "# pl.show()\n",
    "# exit()\n",
    "\n",
    "def twobody_triangle(r1,r2,r3):\n",
    "\tU= twobody(r1)+twobody(r2)+twobody(r3)\n",
    "\n",
    "\tforbidden = (r1>r2)+(r3<r2)+(r3<r1)+(r1<rmin)+(r2<rmin)+(r3<rmin)+(r1>2.5)+(r2>2.5)+(r3>2.5)\n",
    "\tU[forbidden]=0\n",
    "\treturn U\n",
    "\n",
    "def sticky_triangle(r1,r2,r3, epsilon,):\n",
    "\tU= (r1<2.5)*(r2<2.5)*(r3<2.5)*epsilon\n",
    "\tforbidden = (r1>r2)+(r3<r2)+(r3<r1)+(r1<rmin)+(r2<rmin)+(r3<rmin)+(r1>2.5)+(r2>2.5)+(r3>2.5)\n",
    "\tU[forbidden]=0\n",
    "\treturn U\n",
    "\n",
    "potential = reassign(potential,[N,N,N])\n",
    "bins = np.linspace(0, L, N+1)\n",
    "cnt = bins[:-1]+(bins[1]-bins[0])/2\n",
    "\n",
    "R1,R2,R3 = np.meshgrid(cnt,cnt,cnt, indexing=\"ij\")\n",
    "\n",
    "twopotential =  twobody_triangle(R2,R1,R3)\n",
    "\n",
    "# potential -= twopotential\n",
    "# potential = sticky_triangle(R2,R1,R3,-0.5)\n",
    "ipv.quickvolshow(potential, level=[-0.5, 0.0], opacity=0.03, level_width=0.1, data_min=potential.min(), data_max=potential.max())\n",
    "\n",
    "# print(potential.max(), potential.min())\n",
    "# # potential[potential>0]=0R2,R1,R3\n",
    "# with open(f\"../Interactions/threebodypotential-minustwo-L5-Pe{Pe}.txt\", 'w') as fout:\n",
    "#                 for s in range(potential.shape[2]):\n",
    "#                     np.savetxt(fout,potential[:,:,s])\n",
    "\n",
    "\n",
    "\n"
   ]
  },
  {
   "cell_type": "code",
   "execution_count": null,
   "metadata": {},
   "outputs": [],
   "source": []
  }
 ],
 "metadata": {
  "kernelspec": {
   "display_name": "Python 3",
   "language": "python",
   "name": "python3"
  },
  "language_info": {
   "codemirror_mode": {
    "name": "ipython",
    "version": 3
   },
   "file_extension": ".py",
   "mimetype": "text/x-python",
   "name": "python",
   "nbconvert_exporter": "python",
   "pygments_lexer": "ipython3",
   "version": "3.7.1"
  }
 },
 "nbformat": 4,
 "nbformat_minor": 2
}
