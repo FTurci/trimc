{
 "cells": [
  {
   "cell_type": "code",
   "execution_count": 4,
   "metadata": {},
   "outputs": [],
   "source": [
    "import atooms\n",
    "from atooms.trajectory import TrajectoryXYZ\n",
    "import atooms.postprocessing as pp"
   ]
  },
  {
   "cell_type": "code",
   "execution_count": 19,
   "metadata": {},
   "outputs": [],
   "source": [
    " \n",
    "def convert_xyz(filename,rho):\n",
    "        c = open(filename+\".atooms.xyz\", 'w')\n",
    "        step = 0\n",
    "        with open(filename) as fin:\n",
    "            for line in  fin:\n",
    "                if len(line.split())==1:\n",
    "                    if line[0]=='A':\n",
    "                        \n",
    "                        c.write(f\"step:{step} columns:name,pos cell:{L},{L},{L} dt:1\\n\")\n",
    "                        step+=1\n",
    "                    else:\n",
    "                        N = int(line)\n",
    "                        L = (N/rho)**(1./3)\n",
    "                        c.write(line)\n",
    "                else:\n",
    "                    c.write(line)"
   ]
  },
  {
   "cell_type": "code",
   "execution_count": 20,
   "metadata": {},
   "outputs": [],
   "source": [
    "from stringato import extract_floats as ef"
   ]
  },
  {
   "cell_type": "code",
   "execution_count": 22,
   "metadata": {},
   "outputs": [],
   "source": [
    "files = [\"rho0.1-Pe10.xyz\",\"rho0.2-Pe10.xyz\",\"rho0.3-Pe10.xyz\",\"rho0.4-Pe10.xyz\"]\n",
    "convert_xyz(\"rho0.1-Pe10.xyz\", 0.1)\n",
    "with TrajectoryXYZ(\"rho0.1-Pe10.xyz.atooms.xyz\") as th:\n",
    "#     print(th[0].cell)\n",
    "    msd = pp.MeanSquareDisplacement(th)\n",
    "    msd.do()\n",
    "    pl.plot(msd.grid, msd.value)"
   ]
  },
  {
   "cell_type": "code",
   "execution_count": 23,
   "metadata": {},
   "outputs": [],
   "source": [
    "import matplotlib.pyplot as pl"
   ]
  },
  {
   "cell_type": "code",
   "execution_count": 24,
   "metadata": {},
   "outputs": [
    {
     "data": {
      "text/plain": [
       "[<matplotlib.lines.Line2D at 0x1118f14e0>]"
      ]
     },
     "execution_count": 24,
     "metadata": {},
     "output_type": "execute_result"
    },
    {
     "data": {
      "image/png": "[encoded data removed]",
      "text/plain": [
       "<Figure size 432x288 with 1 Axes>"
      ]
     },
     "metadata": {
      "needs_background": "light"
     },
     "output_type": "display_data"
    }
   ],
   "source": []
  },
  {
   "cell_type": "code",
   "execution_count": null,
   "metadata": {},
   "outputs": [],
   "source": []
  }
 ],
 "metadata": {
  "kernelspec": {
   "display_name": "Python 3",
   "language": "python",
   "name": "python3"
  },
  "language_info": {
   "codemirror_mode": {
    "name": "ipython",
    "version": 3
   },
   "file_extension": ".py",
   "mimetype": "text/x-python",
   "name": "python",
   "nbconvert_exporter": "python",
   "pygments_lexer": "ipython3",
   "version": "3.7.1"
  }
 },
 "nbformat": 4,
 "nbformat_minor": 2
}
